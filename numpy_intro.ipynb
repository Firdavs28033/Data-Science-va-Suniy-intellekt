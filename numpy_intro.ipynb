{
  "nbformat": 4,
  "nbformat_minor": 0,
  "metadata": {
    "colab": {
      "provenance": [],
      "authorship_tag": "ABX9TyPZQhOlUjTAyxBkF91nLep7",
      "include_colab_link": true
    },
    "kernelspec": {
      "name": "python3",
      "display_name": "Python 3"
    },
    "language_info": {
      "name": "python"
    }
  },
  "cells": [
    {
      "cell_type": "markdown",
      "metadata": {
        "id": "view-in-github",
        "colab_type": "text"
      },
      "source": [
        "<a href=\"https://colab.research.google.com/github/Firdavs28033/Data-Science-va-Suniy-intellekt/blob/main/numpy_intro.ipynb\" target=\"_parent\"><img src=\"https://colab.research.google.com/assets/colab-badge.svg\" alt=\"Open In Colab\"/></a>"
      ]
    },
    {
      "cell_type": "markdown",
      "source": [
        "<h1>NumPy kutubxonasi bilan ishlash</h1>\n",
        "<h2>0-dars</h>\n"
      ],
      "metadata": {
        "id": "M58nkx9wJFjU"
      }
    },
    {
      "cell_type": "markdown",
      "source": [
        "<h1>NumPy kutubxonasini chaqirib olish</h1>\n"
      ],
      "metadata": {
        "id": "SAn1dyVvJzc9"
      }
    },
    {
      "cell_type": "code",
      "source": [
        " import numpy as np\n"
      ],
      "metadata": {
        "id": "y09OczkBJiTO"
      },
      "execution_count": 12,
      "outputs": []
    },
    {
      "cell_type": "markdown",
      "source": [
        "### Python list bilan NumPy kutubxonasidagi massivlar (arraylar) hisoblashlari orasidagi farqni ko'ramiz."
      ],
      "metadata": {
        "id": "ffpNQv5wKPa7"
      }
    },
    {
      "cell_type": "code",
      "source": [
        "my_list = list(range(10000)) # python list 0~999999  --> Normal\n",
        "my_array = np.array(range(10000)) # numpy array(massiv) 0~99999 --> Vektor"
      ],
      "metadata": {
        "id": "BCNf4cINKksy"
      },
      "execution_count": 13,
      "outputs": []
    },
    {
      "cell_type": "code",
      "source": [
        "%time for _ in range(10): [x*2 for x in my_list] # Normal"
      ],
      "metadata": {
        "colab": {
          "base_uri": "https://localhost:8080/"
        },
        "id": "n3rA-_eEK8Z5",
        "outputId": "2427ae5b-1c87-4631-e515-838f6e7d78c1"
      },
      "execution_count": 20,
      "outputs": [
        {
          "output_type": "stream",
          "name": "stdout",
          "text": [
            "CPU times: user 6.42 ms, sys: 0 ns, total: 6.42 ms\n",
            "Wall time: 6.38 ms\n"
          ]
        }
      ]
    },
    {
      "cell_type": "code",
      "source": [
        "%time for _ in range(10): my_array*2 # Vektorlashgan"
      ],
      "metadata": {
        "colab": {
          "base_uri": "https://localhost:8080/"
        },
        "id": "3Pd880YHLLxZ",
        "outputId": "eb025a46-51d6-4994-a900-515f323c2abb"
      },
      "execution_count": 18,
      "outputs": [
        {
          "output_type": "stream",
          "name": "stdout",
          "text": [
            "CPU times: user 0 ns, sys: 1.01 ms, total: 1.01 ms\n",
            "Wall time: 1.02 ms\n"
          ]
        }
      ]
    },
    {
      "cell_type": "code",
      "source": [
        "6.38/1.02"
      ],
      "metadata": {
        "colab": {
          "base_uri": "https://localhost:8080/"
        },
        "id": "zir_BYF2LU9E",
        "outputId": "6e85adb7-b038-4ae2-f753-933b9cda445d"
      },
      "execution_count": 21,
      "outputs": [
        {
          "output_type": "execute_result",
          "data": {
            "text/plain": [
              "6.254901960784314"
            ]
          },
          "metadata": {},
          "execution_count": 21
        }
      ]
    },
    {
      "cell_type": "code",
      "source": [],
      "metadata": {
        "id": "2nd5PVQ_LtRE"
      },
      "execution_count": null,
      "outputs": []
    }
  ]
}